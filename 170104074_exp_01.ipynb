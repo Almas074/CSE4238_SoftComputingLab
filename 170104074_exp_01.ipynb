{
  "nbformat": 4,
  "nbformat_minor": 0,
  "metadata": {
    "colab": {
      "name": "170104074_exp_01.ipynb",
      "provenance": [],
      "collapsed_sections": []
    },
    "kernelspec": {
      "name": "python3",
      "display_name": "Python 3"
    },
    "language_info": {
      "name": "python"
    },
    "accelerator": "GPU"
  },
  "cells": [
    {
      "cell_type": "code",
      "metadata": {
        "id": "4UMKTgRoeqfW"
      },
      "source": [
        "import numpy as np\n",
        "import pandas as pd\n",
        "import torch\n",
        "import torch.nn as nn\n",
        "import torch.nn.functional as F\n",
        "import torch.optim as optim\n",
        "from torch.utils.data import Dataset\n",
        "from torch.utils.data.sampler import SubsetRandomSampler\n",
        "import matplotlib\n",
        "import matplotlib.pyplot as plt\n",
        "from PIL import Image\n",
        "from torchvision import datasets, transforms, models\n",
        "from torch.autograd import Variable\n",
        "from zipfile import ZipFile\n",
        "import os\n",
        "from os import path\n",
        "import shutil"
      ],
      "execution_count": 1,
      "outputs": []
    },
    {
      "cell_type": "code",
      "metadata": {
        "colab": {
          "base_uri": "https://localhost:8080/"
        },
        "id": "fC445TxmnJ6g",
        "outputId": "13f3cb84-54e2-44f4-e3ac-0bdd5bf283d8"
      },
      "source": [
        "from google.colab import drive\n",
        "drive.mount('/content/drive')"
      ],
      "execution_count": 2,
      "outputs": [
        {
          "output_type": "stream",
          "name": "stdout",
          "text": [
            "Mounted at /content/drive\n"
          ]
        }
      ]
    },
    {
      "cell_type": "code",
      "metadata": {
        "id": "RManlEUee0_s"
      },
      "source": [
        "url = '/content/drive/MyDrive/SoftComputing/'"
      ],
      "execution_count": 3,
      "outputs": []
    },
    {
      "cell_type": "code",
      "metadata": {
        "id": "HC1Mh0lIGogh"
      },
      "source": [
        "dataset_A = url + 'Dataset A.zip'\n",
        "with ZipFile(dataset_A, 'r') as zip:\n",
        "  zip.extractall()"
      ],
      "execution_count": 4,
      "outputs": []
    },
    {
      "cell_type": "code",
      "metadata": {
        "colab": {
          "base_uri": "https://localhost:8080/",
          "height": 223
        },
        "id": "xy-Cey0sf9Fz",
        "outputId": "c26e726c-0d32-4578-b270-5a3aeadfc176"
      },
      "source": [
        "PATH = '/content/'\n",
        "data_labels = pd.read_csv(PATH + 'training-a.csv', usecols = ['filename', 'digit'])\n",
        "print(data_labels.shape)\n",
        "data_labels.head()"
      ],
      "execution_count": 5,
      "outputs": [
        {
          "output_type": "stream",
          "name": "stdout",
          "text": [
            "(19702, 2)\n"
          ]
        },
        {
          "output_type": "execute_result",
          "data": {
            "text/html": [
              "<div>\n",
              "<style scoped>\n",
              "    .dataframe tbody tr th:only-of-type {\n",
              "        vertical-align: middle;\n",
              "    }\n",
              "\n",
              "    .dataframe tbody tr th {\n",
              "        vertical-align: top;\n",
              "    }\n",
              "\n",
              "    .dataframe thead th {\n",
              "        text-align: right;\n",
              "    }\n",
              "</style>\n",
              "<table border=\"1\" class=\"dataframe\">\n",
              "  <thead>\n",
              "    <tr style=\"text-align: right;\">\n",
              "      <th></th>\n",
              "      <th>filename</th>\n",
              "      <th>digit</th>\n",
              "    </tr>\n",
              "  </thead>\n",
              "  <tbody>\n",
              "    <tr>\n",
              "      <th>0</th>\n",
              "      <td>a00000.png</td>\n",
              "      <td>5</td>\n",
              "    </tr>\n",
              "    <tr>\n",
              "      <th>1</th>\n",
              "      <td>a00001.png</td>\n",
              "      <td>3</td>\n",
              "    </tr>\n",
              "    <tr>\n",
              "      <th>2</th>\n",
              "      <td>a00002.png</td>\n",
              "      <td>1</td>\n",
              "    </tr>\n",
              "    <tr>\n",
              "      <th>3</th>\n",
              "      <td>a00003.png</td>\n",
              "      <td>7</td>\n",
              "    </tr>\n",
              "    <tr>\n",
              "      <th>4</th>\n",
              "      <td>a00004.png</td>\n",
              "      <td>0</td>\n",
              "    </tr>\n",
              "  </tbody>\n",
              "</table>\n",
              "</div>"
            ],
            "text/plain": [
              "     filename  digit\n",
              "0  a00000.png      5\n",
              "1  a00001.png      3\n",
              "2  a00002.png      1\n",
              "3  a00003.png      7\n",
              "4  a00004.png      0"
            ]
          },
          "metadata": {},
          "execution_count": 5
        }
      ]
    },
    {
      "cell_type": "code",
      "metadata": {
        "id": "hTJ2ocEEHVGA"
      },
      "source": [
        "TRAIN_PATH = url + 'Train'\n",
        "os.mkdir(TRAIN_PATH)\n",
        "\n",
        "def processImages(folder_name):\n",
        "  src = PATH + folder_name + '/'\n",
        "  dir_folders = os.listdir(src)\n",
        "  for dir_name in dir_folders:\n",
        "    file_name = os.path.join(src, dir_name)\n",
        "    if os.path.isfile(file_name):\n",
        "      shutil.copy(file_name, TRAIN_PATH) \n",
        "\n",
        "processImages('training-a')"
      ],
      "execution_count": 6,
      "outputs": []
    },
    {
      "cell_type": "code",
      "metadata": {
        "id": "zmE05jA4kTDU"
      },
      "source": [
        "class Dataset(Dataset):\n",
        "    def __init__(self, df, root, transform=None):\n",
        "        self.data = df\n",
        "        self.root = root\n",
        "        self.transform = transform\n",
        "        \n",
        "    def __len__(self):\n",
        "        return len(self.data)\n",
        "    \n",
        "    def __getitem__(self, index):\n",
        "        item = self.data.iloc[index]\n",
        "        \n",
        "        path = self.root + \"/\" + item[0]\n",
        "        image = Image.open(path).convert('L')\n",
        "        label = item[1]\n",
        "        \n",
        "        if self.transform is not None:\n",
        "            image = self.transform(image)\n",
        "            \n",
        "        return image, label"
      ],
      "execution_count": 7,
      "outputs": []
    },
    {
      "cell_type": "code",
      "metadata": {
        "colab": {
          "base_uri": "https://localhost:8080/"
        },
        "id": "adaZ60Uik-eb",
        "outputId": "3d083d71-790c-49b7-83a8-d0bcc8c252b6"
      },
      "source": [
        "mean = [0.5,]\n",
        "std = [0.5, ]\n",
        "\n",
        "train_transform = transforms.Compose([\n",
        "    transforms.Resize(28),\n",
        "    transforms.ToTensor(),\n",
        "    transforms.Normalize(mean, std)\n",
        "])\n",
        "\n",
        "test_transform = transforms.Compose([\n",
        "        transforms.Resize(28),\n",
        "        transforms.ToTensor(),\n",
        "        transforms.Normalize(mean, std)\n",
        "])\n",
        "\n",
        "train_data  = Dataset(data_labels, TRAIN_PATH, train_transform)\n",
        "test_data = Dataset(data_labels, TRAIN_PATH, test_transform)\n",
        "\n",
        "print(\"Trainig Samples: \", len(train_data))"
      ],
      "execution_count": 8,
      "outputs": [
        {
          "output_type": "stream",
          "name": "stdout",
          "text": [
            "Trainig Samples:  19702\n"
          ]
        }
      ]
    },
    {
      "cell_type": "markdown",
      "metadata": {
        "id": "8htM9w2LmUVl"
      },
      "source": [
        "# **Base Parameters**"
      ]
    },
    {
      "cell_type": "code",
      "metadata": {
        "colab": {
          "base_uri": "https://localhost:8080/"
        },
        "id": "IGG3l4vrmkI3",
        "outputId": "a6683f4a-cebe-4f50-def1-24ce179d91c8"
      },
      "source": [
        "batch_size = 80\n",
        "num_iters = 50000\n",
        "input_dim = 28*28\n",
        "num_hidden = 900\n",
        "output_dim = 10\n",
        "\n",
        "learning_rate = 0.05\n",
        "\n",
        "num_epochs = num_iters / (len(train_data) / batch_size)\n",
        "num_epochs = int(num_epochs)\n",
        "print(num_epochs)\n",
        "\n",
        "device = torch.device(\"cuda:0\" if torch.cuda.is_available() else \"cpu\")"
      ],
      "execution_count": 9,
      "outputs": [
        {
          "output_type": "stream",
          "name": "stdout",
          "text": [
            "203\n"
          ]
        }
      ]
    },
    {
      "cell_type": "code",
      "metadata": {
        "colab": {
          "base_uri": "https://localhost:8080/"
        },
        "id": "lsSesapsltZF",
        "outputId": "4202b021-ff6e-45a1-a5b8-662c62fd8254"
      },
      "source": [
        "test_size = 0.2\n",
        "num_train = len(train_data)\n",
        "indices = list(range(num_train))\n",
        "np.random.shuffle(indices)\n",
        "split = int(np.floor(test_size * num_train))\n",
        "train_idx, test_idx = indices[split:], indices[:split]\n",
        "\n",
        "train_sampler = SubsetRandomSampler(train_idx)\n",
        "test_sampler = SubsetRandomSampler(test_idx)\n",
        "\n",
        "train_loader = torch.utils.data.DataLoader(\n",
        "    train_data, batch_size=batch_size,\n",
        "    sampler=train_sampler)\n",
        "\n",
        "test_loader = torch.utils.data.DataLoader(\n",
        "    test_data, batch_size=batch_size,\n",
        "    sampler=test_sampler)\n",
        "\n",
        "print(\"Train dataloader:{}\".format(len(train_loader)))\n",
        "print(\"Test dataloader:{}\".format(len(test_loader)))"
      ],
      "execution_count": 10,
      "outputs": [
        {
          "output_type": "stream",
          "name": "stdout",
          "text": [
            "Train dataloader:198\n",
            "Test dataloader:50\n"
          ]
        }
      ]
    },
    {
      "cell_type": "code",
      "metadata": {
        "id": "6jCcU8giniGS"
      },
      "source": [
        "class DeepNeuralNetworkModel(nn.Module):\n",
        "    def __init__(self, input_size, num_classes, num_hidden):\n",
        "        super().__init__()\n",
        "       \n",
        "        self.linear_1 = nn.Linear(input_size, num_hidden)\n",
        "        self.relu_1 = nn.ReLU()\n",
        " \n",
        "        self.linear_2 = nn.Linear(num_hidden, num_hidden)\n",
        "        self.relu_2 = nn.ReLU()\n",
        " \n",
        "        self.linear_3 = nn.Linear(num_hidden, num_hidden)\n",
        "        self.relu_3 = nn.ReLU()\n",
        " \n",
        "        self.linear_4 = nn.Linear(num_hidden, num_hidden)\n",
        "        self.relu_4 = nn.ReLU()\n",
        " \n",
        "        self.linear_5= nn.Linear(num_hidden, num_hidden)\n",
        "        self.relu_5= nn.ReLU()\n",
        " \n",
        "        self.linear_6 = nn.Linear(num_hidden, num_hidden)\n",
        "        self.relu_6 = nn.ReLU()\n",
        " \n",
        "        self.linear_out = nn.Linear(num_hidden, num_classes)\n",
        " \n",
        "    def forward(self, x):\n",
        "        out  = self.linear_1(x)\n",
        "        out = self.relu_1(out)\n",
        "        \n",
        "        out  = self.linear_2(out)\n",
        "        out = self.relu_2(out)\n",
        " \n",
        "        out  = self.linear_3(out)\n",
        "        out = self.relu_3(out)\n",
        " \n",
        "        out  = self.linear_4(out)\n",
        "        out = self.relu_4(out)\n",
        " \n",
        "        out  = self.linear_5(out)\n",
        "        out = self.relu_5(out)\n",
        " \n",
        "        out  = self.linear_6(out)\n",
        "        out = self.relu_6(out)\n",
        "        \n",
        "        probas  = self.linear_out(out)\n",
        "        return probas"
      ],
      "execution_count": 11,
      "outputs": []
    },
    {
      "cell_type": "code",
      "metadata": {
        "colab": {
          "base_uri": "https://localhost:8080/"
        },
        "id": "Q23HotHio42L",
        "outputId": "91aa28ea-6533-47d6-d6e2-378e8571c831"
      },
      "source": [
        "model = DeepNeuralNetworkModel(input_size = input_dim, num_classes = output_dim, num_hidden = num_hidden)\n",
        "\n",
        "model.to(device)"
      ],
      "execution_count": 12,
      "outputs": [
        {
          "output_type": "execute_result",
          "data": {
            "text/plain": [
              "DeepNeuralNetworkModel(\n",
              "  (linear_1): Linear(in_features=784, out_features=900, bias=True)\n",
              "  (relu_1): ReLU()\n",
              "  (linear_2): Linear(in_features=900, out_features=900, bias=True)\n",
              "  (relu_2): ReLU()\n",
              "  (linear_3): Linear(in_features=900, out_features=900, bias=True)\n",
              "  (relu_3): ReLU()\n",
              "  (linear_4): Linear(in_features=900, out_features=900, bias=True)\n",
              "  (relu_4): ReLU()\n",
              "  (linear_5): Linear(in_features=900, out_features=900, bias=True)\n",
              "  (relu_5): ReLU()\n",
              "  (linear_6): Linear(in_features=900, out_features=900, bias=True)\n",
              "  (relu_6): ReLU()\n",
              "  (linear_out): Linear(in_features=900, out_features=10, bias=True)\n",
              ")"
            ]
          },
          "metadata": {},
          "execution_count": 12
        }
      ]
    },
    {
      "cell_type": "code",
      "metadata": {
        "id": "V1YagXSipEth"
      },
      "source": [
        "criterion = nn.CrossEntropyLoss()\n",
        "optimizer = torch.optim.SGD(model.parameters(), lr = learning_rate)"
      ],
      "execution_count": 13,
      "outputs": []
    },
    {
      "cell_type": "code",
      "metadata": {
        "colab": {
          "base_uri": "https://localhost:8080/"
        },
        "id": "6VJ_sYCMp2l9",
        "outputId": "d09ebb68-c41e-40ec-b86f-57d24c7b6661"
      },
      "source": [
        "iteration_loss = []\n",
        "iter = 0\n",
        "for epoch in range(num_epochs):\n",
        "    print('Epoch: ', epoch + 1)\n",
        "    for i, (images, labels) in enumerate(train_loader):\n",
        "\n",
        "        images = images.view(-1, 28*28).to(device)\n",
        "        labels = labels.to(device)\n",
        "\n",
        "        optimizer.zero_grad()\n",
        "\n",
        "        outputs = model(images) \n",
        "\n",
        "        loss = criterion(outputs, labels)\n",
        "\n",
        "        loss.backward()\n",
        "\n",
        "        optimizer.step()\n",
        "\n",
        "        iter += 1\n",
        "\n",
        "        if iter % 500 == 0:        \n",
        "            correct = 0\n",
        "            total = 0\n",
        "            for images, labels in test_loader:\n",
        "               \n",
        "                images = images.view(-1, 28*28).to(device)\n",
        "\n",
        "                outputs = model(images)\n",
        "\n",
        "                _, predicted = torch.max(outputs, 1)\n",
        "\n",
        "                total += labels.size(0)\n",
        "\n",
        "                if torch.cuda.is_available():\n",
        "                    correct += (predicted.cpu() == labels.cpu()).sum() \n",
        "                else:\n",
        "                    correct += (predicted == labels).sum()\n",
        "\n",
        "            accuracy = 100 * correct.item() / total\n",
        "\n",
        "            iteration_loss.append(loss.item())\n",
        "            print('Iteration: {}. Loss: {}. Accuracy: {}'.format(iter, loss.item(), accuracy))"
      ],
      "execution_count": 14,
      "outputs": [
        {
          "output_type": "stream",
          "name": "stdout",
          "text": [
            "Epoch:  1\n",
            "Epoch:  2\n",
            "Epoch:  3\n",
            "Iteration: 500. Loss: 2.299156904220581. Accuracy: 10.48223350253807\n",
            "Epoch:  4\n",
            "Epoch:  5\n",
            "Epoch:  6\n",
            "Iteration: 1000. Loss: 2.297672748565674. Accuracy: 17.766497461928935\n",
            "Epoch:  7\n",
            "Epoch:  8\n",
            "Iteration: 1500. Loss: 2.2894980907440186. Accuracy: 9.720812182741117\n",
            "Epoch:  9\n",
            "Epoch:  10\n",
            "Epoch:  11\n",
            "Iteration: 2000. Loss: 2.2174315452575684. Accuracy: 13.756345177664974\n",
            "Epoch:  12\n",
            "Epoch:  13\n",
            "Iteration: 2500. Loss: 2.168926477432251. Accuracy: 15.609137055837563\n",
            "Epoch:  14\n",
            "Epoch:  15\n",
            "Epoch:  16\n",
            "Iteration: 3000. Loss: 2.1636240482330322. Accuracy: 19.03553299492386\n",
            "Epoch:  17\n",
            "Epoch:  18\n",
            "Iteration: 3500. Loss: 2.1168837547302246. Accuracy: 20.583756345177665\n",
            "Epoch:  19\n",
            "Epoch:  20\n",
            "Epoch:  21\n",
            "Iteration: 4000. Loss: 2.0823447704315186. Accuracy: 17.03045685279188\n",
            "Epoch:  22\n",
            "Epoch:  23\n",
            "Iteration: 4500. Loss: 2.1153063774108887. Accuracy: 23.578680203045685\n",
            "Epoch:  24\n",
            "Epoch:  25\n",
            "Epoch:  26\n",
            "Iteration: 5000. Loss: 2.189105272293091. Accuracy: 19.111675126903553\n",
            "Epoch:  27\n",
            "Epoch:  28\n",
            "Iteration: 5500. Loss: 2.5992228984832764. Accuracy: 14.365482233502538\n",
            "Epoch:  29\n",
            "Epoch:  30\n",
            "Epoch:  31\n",
            "Iteration: 6000. Loss: 1.992919921875. Accuracy: 19.492385786802032\n",
            "Epoch:  32\n",
            "Epoch:  33\n",
            "Iteration: 6500. Loss: 2.0323586463928223. Accuracy: 18.096446700507613\n",
            "Epoch:  34\n",
            "Epoch:  35\n",
            "Epoch:  36\n",
            "Iteration: 7000. Loss: 1.8592212200164795. Accuracy: 31.624365482233504\n",
            "Epoch:  37\n",
            "Epoch:  38\n",
            "Iteration: 7500. Loss: 1.9729278087615967. Accuracy: 33.65482233502538\n",
            "Epoch:  39\n",
            "Epoch:  40\n",
            "Epoch:  41\n",
            "Iteration: 8000. Loss: 1.6864557266235352. Accuracy: 37.53807106598985\n",
            "Epoch:  42\n",
            "Epoch:  43\n",
            "Iteration: 8500. Loss: 1.698714256286621. Accuracy: 25.609137055837564\n",
            "Epoch:  44\n",
            "Epoch:  45\n",
            "Epoch:  46\n",
            "Iteration: 9000. Loss: 1.7902183532714844. Accuracy: 44.69543147208122\n",
            "Epoch:  47\n",
            "Epoch:  48\n",
            "Iteration: 9500. Loss: 1.9283621311187744. Accuracy: 34.64467005076142\n",
            "Epoch:  49\n",
            "Epoch:  50\n",
            "Epoch:  51\n",
            "Iteration: 10000. Loss: 1.7759249210357666. Accuracy: 44.64467005076142\n",
            "Epoch:  52\n",
            "Epoch:  53\n",
            "Epoch:  54\n",
            "Iteration: 10500. Loss: 1.6246389150619507. Accuracy: 46.5736040609137\n",
            "Epoch:  55\n",
            "Epoch:  56\n",
            "Iteration: 11000. Loss: 1.7828105688095093. Accuracy: 49.898477157360404\n",
            "Epoch:  57\n",
            "Epoch:  58\n",
            "Epoch:  59\n",
            "Iteration: 11500. Loss: 1.6225640773773193. Accuracy: 48.60406091370558\n",
            "Epoch:  60\n",
            "Epoch:  61\n",
            "Iteration: 12000. Loss: 1.607317328453064. Accuracy: 46.52284263959391\n",
            "Epoch:  62\n",
            "Epoch:  63\n",
            "Epoch:  64\n",
            "Iteration: 12500. Loss: 1.3969322443008423. Accuracy: 47.411167512690355\n",
            "Epoch:  65\n",
            "Epoch:  66\n",
            "Iteration: 13000. Loss: 1.2446510791778564. Accuracy: 47.71573604060914\n",
            "Epoch:  67\n",
            "Epoch:  68\n",
            "Epoch:  69\n",
            "Iteration: 13500. Loss: 1.210620641708374. Accuracy: 60.22842639593909\n",
            "Epoch:  70\n",
            "Epoch:  71\n",
            "Iteration: 14000. Loss: 1.5196449756622314. Accuracy: 49.796954314720814\n",
            "Epoch:  72\n",
            "Epoch:  73\n",
            "Epoch:  74\n",
            "Iteration: 14500. Loss: 1.335086464881897. Accuracy: 50.025380710659896\n",
            "Epoch:  75\n",
            "Epoch:  76\n",
            "Iteration: 15000. Loss: 1.249072790145874. Accuracy: 55.83756345177665\n",
            "Epoch:  77\n",
            "Epoch:  78\n",
            "Epoch:  79\n",
            "Iteration: 15500. Loss: 1.3305909633636475. Accuracy: 51.26903553299493\n",
            "Epoch:  80\n",
            "Epoch:  81\n",
            "Iteration: 16000. Loss: 1.2058521509170532. Accuracy: 66.14213197969544\n",
            "Epoch:  82\n",
            "Epoch:  83\n",
            "Epoch:  84\n",
            "Iteration: 16500. Loss: 1.1778199672698975. Accuracy: 36.776649746192895\n",
            "Epoch:  85\n",
            "Epoch:  86\n",
            "Iteration: 17000. Loss: 1.0261679887771606. Accuracy: 54.06091370558376\n",
            "Epoch:  87\n",
            "Epoch:  88\n",
            "Epoch:  89\n",
            "Iteration: 17500. Loss: 1.1026332378387451. Accuracy: 60.0507614213198\n",
            "Epoch:  90\n",
            "Epoch:  91\n",
            "Iteration: 18000. Loss: 1.1505647897720337. Accuracy: 64.84771573604061\n",
            "Epoch:  92\n",
            "Epoch:  93\n",
            "Epoch:  94\n",
            "Iteration: 18500. Loss: 1.0218572616577148. Accuracy: 68.52791878172589\n",
            "Epoch:  95\n",
            "Epoch:  96\n",
            "Iteration: 19000. Loss: 0.8724683523178101. Accuracy: 69.82233502538071\n",
            "Epoch:  97\n",
            "Epoch:  98\n",
            "Epoch:  99\n",
            "Iteration: 19500. Loss: 1.6969444751739502. Accuracy: 51.26903553299493\n",
            "Epoch:  100\n",
            "Epoch:  101\n",
            "Epoch:  102\n",
            "Iteration: 20000. Loss: 6.386862754821777. Accuracy: 20.98984771573604\n",
            "Epoch:  103\n",
            "Epoch:  104\n",
            "Iteration: 20500. Loss: 1.366180181503296. Accuracy: 41.015228426395936\n",
            "Epoch:  105\n",
            "Epoch:  106\n",
            "Epoch:  107\n",
            "Iteration: 21000. Loss: 0.9178085327148438. Accuracy: 71.57360406091371\n",
            "Epoch:  108\n",
            "Epoch:  109\n",
            "Iteration: 21500. Loss: 1.0142598152160645. Accuracy: 62.81725888324873\n",
            "Epoch:  110\n",
            "Epoch:  111\n",
            "Epoch:  112\n",
            "Iteration: 22000. Loss: 0.8064029812812805. Accuracy: 63.3502538071066\n",
            "Epoch:  113\n",
            "Epoch:  114\n",
            "Iteration: 22500. Loss: 0.6427953243255615. Accuracy: 65.45685279187818\n",
            "Epoch:  115\n",
            "Epoch:  116\n",
            "Epoch:  117\n",
            "Iteration: 23000. Loss: 1.7719676494598389. Accuracy: 34.84771573604061\n",
            "Epoch:  118\n",
            "Epoch:  119\n",
            "Iteration: 23500. Loss: 0.7417698502540588. Accuracy: 66.34517766497461\n",
            "Epoch:  120\n",
            "Epoch:  121\n",
            "Epoch:  122\n",
            "Iteration: 24000. Loss: 0.9788020253181458. Accuracy: 72.84263959390863\n",
            "Epoch:  123\n",
            "Epoch:  124\n",
            "Iteration: 24500. Loss: 0.7263976335525513. Accuracy: 59.746192893401016\n",
            "Epoch:  125\n",
            "Epoch:  126\n",
            "Epoch:  127\n",
            "Iteration: 25000. Loss: 0.48985567688941956. Accuracy: 80.32994923857868\n",
            "Epoch:  128\n",
            "Epoch:  129\n",
            "Iteration: 25500. Loss: 0.8770996928215027. Accuracy: 75.50761421319797\n",
            "Epoch:  130\n",
            "Epoch:  131\n",
            "Epoch:  132\n",
            "Iteration: 26000. Loss: 0.7946244478225708. Accuracy: 74.94923857868021\n",
            "Epoch:  133\n",
            "Epoch:  134\n",
            "Iteration: 26500. Loss: 1.1006065607070923. Accuracy: 68.88324873096447\n",
            "Epoch:  135\n",
            "Epoch:  136\n",
            "Epoch:  137\n",
            "Iteration: 27000. Loss: 0.5937454104423523. Accuracy: 70.25380710659898\n",
            "Epoch:  138\n",
            "Epoch:  139\n",
            "Iteration: 27500. Loss: 1.0366685390472412. Accuracy: 43.121827411167516\n",
            "Epoch:  140\n",
            "Epoch:  141\n",
            "Epoch:  142\n",
            "Iteration: 28000. Loss: 1.5840328931808472. Accuracy: 48.984771573604064\n",
            "Epoch:  143\n",
            "Epoch:  144\n",
            "Iteration: 28500. Loss: 0.8476738929748535. Accuracy: 76.01522842639594\n",
            "Epoch:  145\n",
            "Epoch:  146\n",
            "Epoch:  147\n",
            "Iteration: 29000. Loss: 0.8911239504814148. Accuracy: 77.08121827411168\n",
            "Epoch:  148\n",
            "Epoch:  149\n",
            "Iteration: 29500. Loss: 1.3229089975357056. Accuracy: 55.98984771573604\n",
            "Epoch:  150\n",
            "Epoch:  151\n",
            "Epoch:  152\n",
            "Iteration: 30000. Loss: 0.8636394739151001. Accuracy: 77.74111675126903\n",
            "Epoch:  153\n",
            "Epoch:  154\n",
            "Epoch:  155\n",
            "Iteration: 30500. Loss: 1.8847482204437256. Accuracy: 27.436548223350254\n",
            "Epoch:  156\n",
            "Epoch:  157\n",
            "Iteration: 31000. Loss: 0.809721827507019. Accuracy: 74.67005076142132\n",
            "Epoch:  158\n",
            "Epoch:  159\n",
            "Epoch:  160\n",
            "Iteration: 31500. Loss: 0.5883952975273132. Accuracy: 77.46192893401015\n",
            "Epoch:  161\n",
            "Epoch:  162\n",
            "Iteration: 32000. Loss: 0.6441303491592407. Accuracy: 81.6497461928934\n",
            "Epoch:  163\n",
            "Epoch:  164\n",
            "Epoch:  165\n",
            "Iteration: 32500. Loss: 0.8301727175712585. Accuracy: 54.898477157360404\n",
            "Epoch:  166\n",
            "Epoch:  167\n",
            "Iteration: 33000. Loss: 0.4035731852054596. Accuracy: 75.20304568527919\n",
            "Epoch:  168\n",
            "Epoch:  169\n",
            "Epoch:  170\n",
            "Iteration: 33500. Loss: 1.7780128717422485. Accuracy: 50.0507614213198\n",
            "Epoch:  171\n",
            "Epoch:  172\n",
            "Iteration: 34000. Loss: 0.5825117826461792. Accuracy: 74.8730964467005\n",
            "Epoch:  173\n",
            "Epoch:  174\n",
            "Epoch:  175\n",
            "Iteration: 34500. Loss: 0.9680734872817993. Accuracy: 75.27918781725889\n",
            "Epoch:  176\n",
            "Epoch:  177\n",
            "Iteration: 35000. Loss: 0.5641822814941406. Accuracy: 86.97969543147208\n",
            "Epoch:  178\n",
            "Epoch:  179\n",
            "Epoch:  180\n",
            "Iteration: 35500. Loss: 0.2861309051513672. Accuracy: 87.33502538071066\n",
            "Epoch:  181\n",
            "Epoch:  182\n",
            "Iteration: 36000. Loss: 0.402762234210968. Accuracy: 86.87817258883248\n",
            "Epoch:  183\n",
            "Epoch:  184\n",
            "Epoch:  185\n",
            "Iteration: 36500. Loss: 0.16398334503173828. Accuracy: 89.03553299492386\n",
            "Epoch:  186\n",
            "Epoch:  187\n",
            "Iteration: 37000. Loss: 0.14972686767578125. Accuracy: 89.61928934010152\n",
            "Epoch:  188\n",
            "Epoch:  189\n",
            "Epoch:  190\n",
            "Iteration: 37500. Loss: 0.2213241308927536. Accuracy: 87.58883248730965\n",
            "Epoch:  191\n",
            "Epoch:  192\n",
            "Iteration: 38000. Loss: 0.20206458866596222. Accuracy: 87.08121827411168\n",
            "Epoch:  193\n",
            "Epoch:  194\n",
            "Epoch:  195\n",
            "Iteration: 38500. Loss: 0.36989685893058777. Accuracy: 88.52791878172589\n",
            "Epoch:  196\n",
            "Epoch:  197\n",
            "Iteration: 39000. Loss: 0.3975371718406677. Accuracy: 85.17766497461929\n",
            "Epoch:  198\n",
            "Epoch:  199\n",
            "Epoch:  200\n",
            "Iteration: 39500. Loss: 0.14179280400276184. Accuracy: 90.71065989847716\n",
            "Epoch:  201\n",
            "Epoch:  202\n",
            "Epoch:  203\n",
            "Iteration: 40000. Loss: 0.21339388191699982. Accuracy: 90.63451776649747\n"
          ]
        }
      ]
    },
    {
      "cell_type": "code",
      "metadata": {
        "id": "IwU44FpRqO9t"
      },
      "source": [
        "torch.save(model.state_dict(), '/content/drive/MyDrive/SoftComputing/Models/model_base.pkl')"
      ],
      "execution_count": 16,
      "outputs": []
    },
    {
      "cell_type": "code",
      "metadata": {
        "colab": {
          "base_uri": "https://localhost:8080/",
          "height": 317
        },
        "id": "1AIS0RVwq8ul",
        "outputId": "bb35dc6f-4435-476e-ed31-6e239199d954"
      },
      "source": [
        "print (iteration_loss)\n",
        "plt.plot(iteration_loss)\n",
        "plt.ylabel('Loss')\n",
        "plt.xlabel('Iteration')\n",
        "plt.show()"
      ],
      "execution_count": 17,
      "outputs": [
        {
          "output_type": "stream",
          "name": "stdout",
          "text": [
            "[2.299156904220581, 2.297672748565674, 2.2894980907440186, 2.2174315452575684, 2.168926477432251, 2.1636240482330322, 2.1168837547302246, 2.0823447704315186, 2.1153063774108887, 2.189105272293091, 2.5992228984832764, 1.992919921875, 2.0323586463928223, 1.8592212200164795, 1.9729278087615967, 1.6864557266235352, 1.698714256286621, 1.7902183532714844, 1.9283621311187744, 1.7759249210357666, 1.6246389150619507, 1.7828105688095093, 1.6225640773773193, 1.607317328453064, 1.3969322443008423, 1.2446510791778564, 1.210620641708374, 1.5196449756622314, 1.335086464881897, 1.249072790145874, 1.3305909633636475, 1.2058521509170532, 1.1778199672698975, 1.0261679887771606, 1.1026332378387451, 1.1505647897720337, 1.0218572616577148, 0.8724683523178101, 1.6969444751739502, 6.386862754821777, 1.366180181503296, 0.9178085327148438, 1.0142598152160645, 0.8064029812812805, 0.6427953243255615, 1.7719676494598389, 0.7417698502540588, 0.9788020253181458, 0.7263976335525513, 0.48985567688941956, 0.8770996928215027, 0.7946244478225708, 1.1006065607070923, 0.5937454104423523, 1.0366685390472412, 1.5840328931808472, 0.8476738929748535, 0.8911239504814148, 1.3229089975357056, 0.8636394739151001, 1.8847482204437256, 0.809721827507019, 0.5883952975273132, 0.6441303491592407, 0.8301727175712585, 0.4035731852054596, 1.7780128717422485, 0.5825117826461792, 0.9680734872817993, 0.5641822814941406, 0.2861309051513672, 0.402762234210968, 0.16398334503173828, 0.14972686767578125, 0.2213241308927536, 0.20206458866596222, 0.36989685893058777, 0.3975371718406677, 0.14179280400276184, 0.21339388191699982]\n"
          ]
        },
        {
          "output_type": "display_data",
          "data": {
            "image/png": "[encoded data removed]",
            "text/plain": [
              "<Figure size 432x288 with 1 Axes>"
            ]
          },
          "metadata": {
            "needs_background": "light"
          }
        }
      ]
    }
  ]
}