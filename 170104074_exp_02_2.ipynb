{
  "nbformat": 4,
  "nbformat_minor": 0,
  "metadata": {
    "colab": {
      "name": "170104074_exp_02_2.ipynb",
      "provenance": [],
      "collapsed_sections": []
    },
    "kernelspec": {
      "name": "python3",
      "display_name": "Python 3"
    },
    "language_info": {
      "name": "python"
    },
    "accelerator": "GPU"
  },
  "cells": [
    {
      "cell_type": "code",
      "metadata": {
        "id": "4UMKTgRoeqfW"
      },
      "source": [
        "import numpy as np\n",
        "import pandas as pd\n",
        "import torch\n",
        "import torch.nn as nn\n",
        "import torch.nn.functional as F\n",
        "import torch.optim as optim\n",
        "from torch.utils.data import Dataset\n",
        "from torch.utils.data.sampler import SubsetRandomSampler\n",
        "import matplotlib\n",
        "import matplotlib.pyplot as plt\n",
        "from PIL import Image\n",
        "from torchvision import datasets, transforms, models\n",
        "from torch.autograd import Variable\n",
        "from zipfile import ZipFile\n",
        "import os\n",
        "from os import path\n",
        "import shutil"
      ],
      "execution_count": 1,
      "outputs": []
    },
    {
      "cell_type": "code",
      "metadata": {
        "colab": {
          "base_uri": "https://localhost:8080/"
        },
        "id": "fC445TxmnJ6g",
        "outputId": "98d824a5-a493-4a25-91eb-3359f03d8075"
      },
      "source": [
        "from google.colab import drive\n",
        "drive.mount('/content/drive')"
      ],
      "execution_count": 2,
      "outputs": [
        {
          "output_type": "stream",
          "name": "stdout",
          "text": [
            "Mounted at /content/drive\n"
          ]
        }
      ]
    },
    {
      "cell_type": "code",
      "metadata": {
        "id": "RManlEUee0_s"
      },
      "source": [
        "url = '/content/drive/MyDrive/'"
      ],
      "execution_count": 3,
      "outputs": []
    },
    {
      "cell_type": "code",
      "metadata": {
        "id": "HC1Mh0lIGogh"
      },
      "source": [
        "dataset_A = url + 'dataset_2_image.zip'\n",
        "with ZipFile(dataset_A, 'r') as zip:\n",
        "  zip.extractall()"
      ],
      "execution_count": 4,
      "outputs": []
    },
    {
      "cell_type": "code",
      "metadata": {
        "colab": {
          "base_uri": "https://localhost:8080/",
          "height": 203
        },
        "id": "xy-Cey0sf9Fz",
        "outputId": "2a7316d3-d714-4faa-a8ad-e3541f0db66d"
      },
      "source": [
        "PATH = '/content/'\n",
        "train_data_labels = pd.read_csv('/content/csv/updatetrain.csv', usecols = ['filename', 'digit'])\n",
        "test_data_labels = pd.read_csv('/content/csv/updatetest.csv', usecols = ['filename', 'digit'])\n",
        "train_data_labels.head()\n"
      ],
      "execution_count": 26,
      "outputs": [
        {
          "output_type": "execute_result",
          "data": {
            "text/html": [
              "<div>\n",
              "<style scoped>\n",
              "    .dataframe tbody tr th:only-of-type {\n",
              "        vertical-align: middle;\n",
              "    }\n",
              "\n",
              "    .dataframe tbody tr th {\n",
              "        vertical-align: top;\n",
              "    }\n",
              "\n",
              "    .dataframe thead th {\n",
              "        text-align: right;\n",
              "    }\n",
              "</style>\n",
              "<table border=\"1\" class=\"dataframe\">\n",
              "  <thead>\n",
              "    <tr style=\"text-align: right;\">\n",
              "      <th></th>\n",
              "      <th>filename</th>\n",
              "      <th>digit</th>\n",
              "    </tr>\n",
              "  </thead>\n",
              "  <tbody>\n",
              "    <tr>\n",
              "      <th>0</th>\n",
              "      <td>0.jpg</td>\n",
              "      <td>9</td>\n",
              "    </tr>\n",
              "    <tr>\n",
              "      <th>1</th>\n",
              "      <td>1.jpg</td>\n",
              "      <td>0</td>\n",
              "    </tr>\n",
              "    <tr>\n",
              "      <th>2</th>\n",
              "      <td>2.jpg</td>\n",
              "      <td>0</td>\n",
              "    </tr>\n",
              "    <tr>\n",
              "      <th>3</th>\n",
              "      <td>3.jpg</td>\n",
              "      <td>3</td>\n",
              "    </tr>\n",
              "    <tr>\n",
              "      <th>4</th>\n",
              "      <td>4.jpg</td>\n",
              "      <td>0</td>\n",
              "    </tr>\n",
              "  </tbody>\n",
              "</table>\n",
              "</div>"
            ],
            "text/plain": [
              "  filename  digit\n",
              "0    0.jpg      9\n",
              "1    1.jpg      0\n",
              "2    2.jpg      0\n",
              "3    3.jpg      3\n",
              "4    4.jpg      0"
            ]
          },
          "metadata": {},
          "execution_count": 26
        }
      ]
    },
    {
      "cell_type": "code",
      "metadata": {
        "id": "hTJ2ocEEHVGA",
        "colab": {
          "base_uri": "https://localhost:8080/",
          "height": 229
        },
        "outputId": "41351c2a-2f57-4e5d-de81-9658023b8d67"
      },
      "source": [
        "TRAIN_PATH = url + 'Train'\n",
        "os.mkdir(TRAIN_PATH)\n",
        "\n",
        "def processImages(folder_name):\n",
        "  src = PATH + folder_name + '/'\n",
        "  dir_folders = os.listdir(src)\n",
        "  for dir_name in dir_folders:\n",
        "    file_name = os.path.join(src, dir_name)\n",
        "    if os.path.isfile(file_name):\n",
        "      shutil.copy(file_name, TRAIN_PATH) \n",
        "\n",
        "processImages('training-a')"
      ],
      "execution_count": 27,
      "outputs": [
        {
          "output_type": "error",
          "ename": "FileExistsError",
          "evalue": "ignored",
          "traceback": [
            "\u001b[0;31m---------------------------------------------------------------------------\u001b[0m",
            "\u001b[0;31mFileExistsError\u001b[0m                           Traceback (most recent call last)",
            "\u001b[0;32m<ipython-input-27-9cc105c502d0>\u001b[0m in \u001b[0;36m<module>\u001b[0;34m()\u001b[0m\n\u001b[1;32m      1\u001b[0m \u001b[0mTRAIN_PATH\u001b[0m \u001b[0;34m=\u001b[0m \u001b[0murl\u001b[0m \u001b[0;34m+\u001b[0m \u001b[0;34m'Train'\u001b[0m\u001b[0;34m\u001b[0m\u001b[0;34m\u001b[0m\u001b[0m\n\u001b[0;32m----> 2\u001b[0;31m \u001b[0mos\u001b[0m\u001b[0;34m.\u001b[0m\u001b[0mmkdir\u001b[0m\u001b[0;34m(\u001b[0m\u001b[0mTRAIN_PATH\u001b[0m\u001b[0;34m)\u001b[0m\u001b[0;34m\u001b[0m\u001b[0;34m\u001b[0m\u001b[0m\n\u001b[0m\u001b[1;32m      3\u001b[0m \u001b[0;34m\u001b[0m\u001b[0m\n\u001b[1;32m      4\u001b[0m \u001b[0;32mdef\u001b[0m \u001b[0mprocessImages\u001b[0m\u001b[0;34m(\u001b[0m\u001b[0mfolder_name\u001b[0m\u001b[0;34m)\u001b[0m\u001b[0;34m:\u001b[0m\u001b[0;34m\u001b[0m\u001b[0;34m\u001b[0m\u001b[0m\n\u001b[1;32m      5\u001b[0m   \u001b[0msrc\u001b[0m \u001b[0;34m=\u001b[0m \u001b[0mPATH\u001b[0m \u001b[0;34m+\u001b[0m \u001b[0mfolder_name\u001b[0m \u001b[0;34m+\u001b[0m \u001b[0;34m'/'\u001b[0m\u001b[0;34m\u001b[0m\u001b[0;34m\u001b[0m\u001b[0m\n",
            "\u001b[0;31mFileExistsError\u001b[0m: [Errno 17] File exists: '/content/drive/MyDrive/Train'"
          ]
        }
      ]
    },
    {
      "cell_type": "code",
      "metadata": {
        "id": "zmE05jA4kTDU"
      },
      "source": [
        "class Dataset(Dataset):\n",
        "    def __init__(self, df, root, transform=None):\n",
        "        self.data = df\n",
        "        self.root = root\n",
        "        self.transform = transform\n",
        "        \n",
        "    def __len__(self):\n",
        "        return len(self.data)\n",
        "    \n",
        "    def __getitem__(self, index):\n",
        "        item = self.data.iloc[index]\n",
        "        \n",
        "        path = self.root + \"/\" + item[0]\n",
        "        image = Image.open(path).convert('L')\n",
        "        label = item[1]\n",
        "        \n",
        "        if self.transform is not None:\n",
        "            image = self.transform(image)\n",
        "            \n",
        "        return image, label"
      ],
      "execution_count": 28,
      "outputs": []
    },
    {
      "cell_type": "code",
      "metadata": {
        "colab": {
          "base_uri": "https://localhost:8080/"
        },
        "id": "adaZ60Uik-eb",
        "outputId": "825c362e-9a8d-4619-d532-28ca7c0f3f6a"
      },
      "source": [
        "mean = [0.5,]\n",
        "std = [0.5, ]\n",
        "\n",
        "train_transform = transforms.Compose([\n",
        "    transforms.Resize(28),\n",
        "    transforms.ToTensor(),\n",
        "    transforms.Normalize(mean, std)\n",
        "])\n",
        "\n",
        "test_transform = transforms.Compose([\n",
        "        transforms.Resize(28),\n",
        "        transforms.ToTensor(),\n",
        "        transforms.Normalize(mean, std)\n",
        "])\n",
        "\n",
        "train_data  = Dataset(train_data_labels, '/content/train', train_transform)\n",
        "test_data = Dataset(test_data_labels, '/content/test_28', test_transform)\n",
        "\n",
        "print(\"Trainig Samples: \", len(train_data))"
      ],
      "execution_count": 29,
      "outputs": [
        {
          "output_type": "stream",
          "name": "stdout",
          "text": [
            "Trainig Samples:  60000\n"
          ]
        }
      ]
    },
    {
      "cell_type": "markdown",
      "metadata": {
        "id": "8htM9w2LmUVl"
      },
      "source": [
        "# **Base Parameters**"
      ]
    },
    {
      "cell_type": "code",
      "metadata": {
        "colab": {
          "base_uri": "https://localhost:8080/"
        },
        "id": "IGG3l4vrmkI3",
        "outputId": "4f9b63f3-23be-4730-bf1c-8fbef79d829a"
      },
      "source": [
        "batch_size = 80\n",
        "num_iters = 50000\n",
        "input_dim = 28*28\n",
        "num_hidden = 900\n",
        "output_dim = 10\n",
        "\n",
        "learning_rate = 0.05\n",
        "\n",
        "num_epochs = num_iters / (len(train_data) / batch_size)\n",
        "num_epochs = int(num_epochs)\n",
        "print(num_epochs)\n",
        "\n",
        "device = torch.device(\"cuda:0\" if torch.cuda.is_available() else \"cpu\")"
      ],
      "execution_count": 30,
      "outputs": [
        {
          "output_type": "stream",
          "name": "stdout",
          "text": [
            "66\n"
          ]
        }
      ]
    },
    {
      "cell_type": "code",
      "metadata": {
        "colab": {
          "base_uri": "https://localhost:8080/"
        },
        "id": "lsSesapsltZF",
        "outputId": "0542fefe-e8b2-41b0-b3b1-1b39c316303e"
      },
      "source": [
        "test_size = 0.2\n",
        "num_train = len(train_data)\n",
        "indices = list(range(num_train))\n",
        "np.random.shuffle(indices)\n",
        "split = int(np.floor(test_size * num_train))\n",
        "train_idx, test_idx = indices[split:], indices[:split]\n",
        "\n",
        "train_sampler = SubsetRandomSampler(train_idx)\n",
        "test_sampler = SubsetRandomSampler(test_idx)\n",
        "\n",
        "train_loader = torch.utils.data.DataLoader(\n",
        "    train_data, batch_size=batch_size,\n",
        "    sampler=train_sampler)\n",
        "\n",
        "test_loader = torch.utils.data.DataLoader(\n",
        "    train_data, batch_size=batch_size,\n",
        "    sampler=test_sampler)\n",
        "\n",
        "print(\"Train dataloader:{}\".format(len(train_loader)))\n",
        "print(\"Test dataloader:{}\".format(len(test_loader)))"
      ],
      "execution_count": 31,
      "outputs": [
        {
          "output_type": "stream",
          "name": "stdout",
          "text": [
            "Train dataloader:600\n",
            "Test dataloader:150\n"
          ]
        }
      ]
    },
    {
      "cell_type": "code",
      "metadata": {
        "id": "6jCcU8giniGS"
      },
      "source": [
        "class DeepNeuralNetworkModel(nn.Module):\n",
        "    def __init__(self, input_size, num_classes, num_hidden):\n",
        "        super().__init__()\n",
        "       \n",
        "        self.linear_1 = nn.Linear(input_size, num_hidden)\n",
        "        self.relu_1 = nn.ReLU()\n",
        " \n",
        "        self.linear_2 = nn.Linear(num_hidden, num_hidden)\n",
        "        self.relu_2 = nn.ReLU()\n",
        " \n",
        "        self.linear_3 = nn.Linear(num_hidden, num_hidden)\n",
        "        self.relu_3 = nn.ReLU()\n",
        " \n",
        "        self.linear_4 = nn.Linear(num_hidden, num_hidden)\n",
        "        self.relu_4 = nn.ReLU()\n",
        " \n",
        "        self.linear_5= nn.Linear(num_hidden, num_hidden)\n",
        "        self.relu_5= nn.ReLU()\n",
        " \n",
        "        self.linear_6 = nn.Linear(num_hidden, num_hidden)\n",
        "        self.relu_6 = nn.ReLU()\n",
        " \n",
        "        self.linear_out = nn.Linear(num_hidden, num_classes)\n",
        " \n",
        "    def forward(self, x):\n",
        "        out  = self.linear_1(x)\n",
        "        out = self.relu_1(out)\n",
        "        \n",
        "        out  = self.linear_2(out)\n",
        "        out = self.relu_2(out)\n",
        " \n",
        "        out  = self.linear_3(out)\n",
        "        out = self.relu_3(out)\n",
        " \n",
        "        out  = self.linear_4(out)\n",
        "        out = self.relu_4(out)\n",
        " \n",
        "        out  = self.linear_5(out)\n",
        "        out = self.relu_5(out)\n",
        " \n",
        "        out  = self.linear_6(out)\n",
        "        out = self.relu_6(out)\n",
        "        \n",
        "        probas  = self.linear_out(out)\n",
        "        return probas"
      ],
      "execution_count": 32,
      "outputs": []
    },
    {
      "cell_type": "code",
      "metadata": {
        "colab": {
          "base_uri": "https://localhost:8080/"
        },
        "id": "Q23HotHio42L",
        "outputId": "83ad2ab4-9246-4313-d645-117a60c0b053"
      },
      "source": [
        "model = DeepNeuralNetworkModel(input_size = input_dim, num_classes = output_dim, num_hidden = num_hidden)\n",
        "\n",
        "model.to(device)"
      ],
      "execution_count": 33,
      "outputs": [
        {
          "output_type": "execute_result",
          "data": {
            "text/plain": [
              "DeepNeuralNetworkModel(\n",
              "  (linear_1): Linear(in_features=784, out_features=900, bias=True)\n",
              "  (relu_1): ReLU()\n",
              "  (linear_2): Linear(in_features=900, out_features=900, bias=True)\n",
              "  (relu_2): ReLU()\n",
              "  (linear_3): Linear(in_features=900, out_features=900, bias=True)\n",
              "  (relu_3): ReLU()\n",
              "  (linear_4): Linear(in_features=900, out_features=900, bias=True)\n",
              "  (relu_4): ReLU()\n",
              "  (linear_5): Linear(in_features=900, out_features=900, bias=True)\n",
              "  (relu_5): ReLU()\n",
              "  (linear_6): Linear(in_features=900, out_features=900, bias=True)\n",
              "  (relu_6): ReLU()\n",
              "  (linear_out): Linear(in_features=900, out_features=10, bias=True)\n",
              ")"
            ]
          },
          "metadata": {},
          "execution_count": 33
        }
      ]
    },
    {
      "cell_type": "code",
      "metadata": {
        "id": "V1YagXSipEth"
      },
      "source": [
        "criterion = nn.CrossEntropyLoss()\n",
        "optimizer = torch.optim.SGD(model.parameters(), lr = learning_rate)"
      ],
      "execution_count": 34,
      "outputs": []
    },
    {
      "cell_type": "code",
      "metadata": {
        "colab": {
          "base_uri": "https://localhost:8080/"
        },
        "id": "6VJ_sYCMp2l9",
        "outputId": "78203107-fc4c-4ec9-d071-27ee392a15c7"
      },
      "source": [
        "iteration_loss = []\n",
        "iter = 0\n",
        "for epoch in range(num_epochs):\n",
        "    print('Epoch: ', epoch + 1)\n",
        "    for i, (images, labels) in enumerate(train_loader):\n",
        "\n",
        "        images = images.view(-1, 28*28).to(device)\n",
        "        labels = labels.to(device)\n",
        "\n",
        "        optimizer.zero_grad()\n",
        "\n",
        "        outputs = model(images) \n",
        "\n",
        "        loss = criterion(outputs, labels)\n",
        "\n",
        "        loss.backward()\n",
        "\n",
        "        optimizer.step()\n",
        "\n",
        "        iter += 1\n",
        "\n",
        "        if iter % 500 == 0:        \n",
        "            correct = 0\n",
        "            total = 0\n",
        "            for images, labels in test_loader:\n",
        "               \n",
        "                images = images.view(-1, 28*28).to(device)\n",
        "\n",
        "                outputs = model(images)\n",
        "\n",
        "                _, predicted = torch.max(outputs, 1)\n",
        "\n",
        "                total += labels.size(0)\n",
        "\n",
        "                if torch.cuda.is_available():\n",
        "                    correct += (predicted.cpu() == labels.cpu()).sum() \n",
        "                else:\n",
        "                    correct += (predicted == labels).sum()\n",
        "\n",
        "            accuracy = 100 * correct.item() / total\n",
        "\n",
        "            iteration_loss.append(loss.item())\n",
        "            print('Iteration: {}. Loss: {}. Accuracy: {}'.format(iter, loss.item(), accuracy))"
      ],
      "execution_count": 35,
      "outputs": [
        {
          "output_type": "stream",
          "name": "stdout",
          "text": [
            "Epoch:  1\n",
            "Iteration: 500. Loss: 0.8090744018554688. Accuracy: 61.95\n",
            "Epoch:  2\n",
            "Iteration: 1000. Loss: 0.6277232766151428. Accuracy: 80.50833333333334\n",
            "Epoch:  3\n",
            "Iteration: 1500. Loss: 0.3703173100948334. Accuracy: 82.00833333333334\n",
            "Epoch:  4\n",
            "Iteration: 2000. Loss: 0.4964316785335541. Accuracy: 84.125\n",
            "Epoch:  5\n",
            "Iteration: 2500. Loss: 0.4356776177883148. Accuracy: 84.23333333333333\n",
            "Iteration: 3000. Loss: 0.3409222364425659. Accuracy: 85.16666666666667\n",
            "Epoch:  6\n",
            "Iteration: 3500. Loss: 0.37214967608451843. Accuracy: 87.01666666666667\n",
            "Epoch:  7\n",
            "Iteration: 4000. Loss: 0.23801258206367493. Accuracy: 87.36666666666666\n",
            "Epoch:  8\n",
            "Iteration: 4500. Loss: 0.4310153126716614. Accuracy: 87.925\n",
            "Epoch:  9\n",
            "Iteration: 5000. Loss: 0.25594884157180786. Accuracy: 88.26666666666667\n",
            "Epoch:  10\n",
            "Iteration: 5500. Loss: 0.2826750576496124. Accuracy: 87.05\n",
            "Iteration: 6000. Loss: 0.44083738327026367. Accuracy: 88.375\n",
            "Epoch:  11\n",
            "Iteration: 6500. Loss: 0.34658724069595337. Accuracy: 87.10833333333333\n",
            "Epoch:  12\n",
            "Iteration: 7000. Loss: 0.4045453667640686. Accuracy: 86.55\n",
            "Epoch:  13\n",
            "Iteration: 7500. Loss: 0.22185106575489044. Accuracy: 88.69166666666666\n",
            "Epoch:  14\n",
            "Iteration: 8000. Loss: 0.2097775638103485. Accuracy: 87.60833333333333\n",
            "Epoch:  15\n",
            "Iteration: 8500. Loss: 0.2538130581378937. Accuracy: 86.725\n",
            "Iteration: 9000. Loss: 0.1414676308631897. Accuracy: 89.59166666666667\n",
            "Epoch:  16\n",
            "Iteration: 9500. Loss: 0.3135850727558136. Accuracy: 87.975\n",
            "Epoch:  17\n",
            "Iteration: 10000. Loss: 0.10307189077138901. Accuracy: 89.4\n",
            "Epoch:  18\n",
            "Iteration: 10500. Loss: 0.1391279399394989. Accuracy: 88.99166666666666\n",
            "Epoch:  19\n",
            "Iteration: 11000. Loss: 0.28796276450157166. Accuracy: 86.85\n",
            "Epoch:  20\n",
            "Iteration: 11500. Loss: 0.13588310778141022. Accuracy: 90.025\n",
            "Iteration: 12000. Loss: 0.27904844284057617. Accuracy: 88.25\n",
            "Epoch:  21\n",
            "Iteration: 12500. Loss: 0.2072221338748932. Accuracy: 89.10833333333333\n",
            "Epoch:  22\n",
            "Iteration: 13000. Loss: 0.1624961644411087. Accuracy: 88.65\n",
            "Epoch:  23\n",
            "Iteration: 13500. Loss: 0.15768475830554962. Accuracy: 89.95833333333333\n",
            "Epoch:  24\n",
            "Iteration: 14000. Loss: 0.1719941794872284. Accuracy: 88.90833333333333\n",
            "Epoch:  25\n",
            "Iteration: 14500. Loss: 0.08866596221923828. Accuracy: 89.65\n",
            "Iteration: 15000. Loss: 0.06962786614894867. Accuracy: 89.28333333333333\n",
            "Epoch:  26\n",
            "Iteration: 15500. Loss: 0.26418381929397583. Accuracy: 89.79166666666667\n",
            "Epoch:  27\n",
            "Iteration: 16000. Loss: 0.11904831230640411. Accuracy: 89.175\n",
            "Epoch:  28\n",
            "Iteration: 16500. Loss: 0.055255185812711716. Accuracy: 90.075\n",
            "Epoch:  29\n",
            "Iteration: 17000. Loss: 0.12151868641376495. Accuracy: 89.64166666666667\n",
            "Epoch:  30\n",
            "Iteration: 17500. Loss: 0.09969951212406158. Accuracy: 90.2\n",
            "Iteration: 18000. Loss: 0.09853799641132355. Accuracy: 88.75\n",
            "Epoch:  31\n",
            "Iteration: 18500. Loss: 0.11989568173885345. Accuracy: 90.08333333333333\n",
            "Epoch:  32\n",
            "Iteration: 19000. Loss: 0.06288705766201019. Accuracy: 89.875\n",
            "Epoch:  33\n",
            "Iteration: 19500. Loss: 0.08941160142421722. Accuracy: 89.79166666666667\n",
            "Epoch:  34\n",
            "Iteration: 20000. Loss: 0.08737999200820923. Accuracy: 89.76666666666667\n",
            "Epoch:  35\n",
            "Iteration: 20500. Loss: 0.1317654252052307. Accuracy: 87.16666666666667\n",
            "Iteration: 21000. Loss: 0.038627348840236664. Accuracy: 89.98333333333333\n",
            "Epoch:  36\n",
            "Iteration: 21500. Loss: 0.0501704216003418. Accuracy: 89.58333333333333\n",
            "Epoch:  37\n",
            "Iteration: 22000. Loss: 0.20083971321582794. Accuracy: 87.13333333333334\n",
            "Epoch:  38\n",
            "Iteration: 22500. Loss: 0.019977934658527374. Accuracy: 90.075\n",
            "Epoch:  39\n",
            "Iteration: 23000. Loss: 0.09965181350708008. Accuracy: 89.89166666666667\n",
            "Epoch:  40\n",
            "Iteration: 23500. Loss: 0.07316906750202179. Accuracy: 90.36666666666666\n",
            "Iteration: 24000. Loss: 0.06317780166864395. Accuracy: 89.66666666666667\n",
            "Epoch:  41\n",
            "Iteration: 24500. Loss: 0.14829643070697784. Accuracy: 89.40833333333333\n",
            "Epoch:  42\n",
            "Iteration: 25000. Loss: 0.05961828678846359. Accuracy: 89.90833333333333\n",
            "Epoch:  43\n",
            "Iteration: 25500. Loss: 0.06277383863925934. Accuracy: 89.825\n",
            "Epoch:  44\n",
            "Iteration: 26000. Loss: 0.05410950630903244. Accuracy: 89.79166666666667\n",
            "Epoch:  45\n",
            "Iteration: 26500. Loss: 0.031028861179947853. Accuracy: 90.16666666666667\n",
            "Iteration: 27000. Loss: 0.126723513007164. Accuracy: 88.86666666666666\n",
            "Epoch:  46\n",
            "Iteration: 27500. Loss: 0.04661212116479874. Accuracy: 89.54166666666667\n",
            "Epoch:  47\n",
            "Iteration: 28000. Loss: 0.08481740206480026. Accuracy: 89.83333333333333\n",
            "Epoch:  48\n",
            "Iteration: 28500. Loss: 0.09240292757749557. Accuracy: 90.125\n",
            "Epoch:  49\n",
            "Iteration: 29000. Loss: 0.05248531699180603. Accuracy: 89.61666666666666\n",
            "Epoch:  50\n",
            "Iteration: 29500. Loss: 0.006207150872796774. Accuracy: 90.50833333333334\n",
            "Iteration: 30000. Loss: 0.07962386310100555. Accuracy: 89.68333333333334\n",
            "Epoch:  51\n",
            "Iteration: 30500. Loss: 0.010715058073401451. Accuracy: 90.25833333333334\n",
            "Epoch:  52\n",
            "Iteration: 31000. Loss: 0.15010544657707214. Accuracy: 89.49166666666666\n",
            "Epoch:  53\n",
            "Iteration: 31500. Loss: 0.03308252990245819. Accuracy: 89.28333333333333\n",
            "Epoch:  54\n",
            "Iteration: 32000. Loss: 0.054775260388851166. Accuracy: 89.95\n",
            "Epoch:  55\n",
            "Iteration: 32500. Loss: 0.03822993114590645. Accuracy: 90.4\n",
            "Iteration: 33000. Loss: 0.021697992458939552. Accuracy: 90.025\n",
            "Epoch:  56\n",
            "Iteration: 33500. Loss: 0.10973799228668213. Accuracy: 89.475\n",
            "Epoch:  57\n",
            "Iteration: 34000. Loss: 0.0055759986862540245. Accuracy: 89.95833333333333\n",
            "Epoch:  58\n",
            "Iteration: 34500. Loss: 0.026135306805372238. Accuracy: 89.9\n",
            "Epoch:  59\n",
            "Iteration: 35000. Loss: 0.014557361602783203. Accuracy: 90.14166666666667\n",
            "Epoch:  60\n",
            "Iteration: 35500. Loss: 0.008323954418301582. Accuracy: 90.35833333333333\n",
            "Iteration: 36000. Loss: 0.009122644551098347. Accuracy: 90.43333333333334\n",
            "Epoch:  61\n",
            "Iteration: 36500. Loss: 0.06511123478412628. Accuracy: 88.98333333333333\n",
            "Epoch:  62\n",
            "Iteration: 37000. Loss: 0.006632717791944742. Accuracy: 90.25\n",
            "Epoch:  63\n",
            "Iteration: 37500. Loss: 0.02487015165388584. Accuracy: 89.93333333333334\n",
            "Epoch:  64\n",
            "Iteration: 38000. Loss: 0.0010845366632565856. Accuracy: 90.18333333333334\n",
            "Epoch:  65\n",
            "Iteration: 38500. Loss: 0.006922201253473759. Accuracy: 90.50833333333334\n",
            "Iteration: 39000. Loss: 0.01649230159819126. Accuracy: 90.425\n",
            "Epoch:  66\n",
            "Iteration: 39500. Loss: 0.002199196722358465. Accuracy: 90.55\n"
          ]
        }
      ]
    },
    {
      "cell_type": "code",
      "metadata": {
        "id": "IwU44FpRqO9t"
      },
      "source": [
        "torch.save(model.state_dict(), '/content/drive/MyDrive/model_base.pkl')"
      ],
      "execution_count": 37,
      "outputs": []
    },
    {
      "cell_type": "code",
      "metadata": {
        "colab": {
          "base_uri": "https://localhost:8080/",
          "height": 316
        },
        "id": "1AIS0RVwq8ul",
        "outputId": "faa1981d-a83c-428d-db80-d1b8c0f6887d"
      },
      "source": [
        "print (iteration_loss)\n",
        "plt.plot(iteration_loss)\n",
        "plt.ylabel('Loss')\n",
        "plt.xlabel('Iteration')\n",
        "plt.show()"
      ],
      "execution_count": 36,
      "outputs": [
        {
          "output_type": "stream",
          "name": "stdout",
          "text": [
            "[0.8090744018554688, 0.6277232766151428, 0.3703173100948334, 0.4964316785335541, 0.4356776177883148, 0.3409222364425659, 0.37214967608451843, 0.23801258206367493, 0.4310153126716614, 0.25594884157180786, 0.2826750576496124, 0.44083738327026367, 0.34658724069595337, 0.4045453667640686, 0.22185106575489044, 0.2097775638103485, 0.2538130581378937, 0.1414676308631897, 0.3135850727558136, 0.10307189077138901, 0.1391279399394989, 0.28796276450157166, 0.13588310778141022, 0.27904844284057617, 0.2072221338748932, 0.1624961644411087, 0.15768475830554962, 0.1719941794872284, 0.08866596221923828, 0.06962786614894867, 0.26418381929397583, 0.11904831230640411, 0.055255185812711716, 0.12151868641376495, 0.09969951212406158, 0.09853799641132355, 0.11989568173885345, 0.06288705766201019, 0.08941160142421722, 0.08737999200820923, 0.1317654252052307, 0.038627348840236664, 0.0501704216003418, 0.20083971321582794, 0.019977934658527374, 0.09965181350708008, 0.07316906750202179, 0.06317780166864395, 0.14829643070697784, 0.05961828678846359, 0.06277383863925934, 0.05410950630903244, 0.031028861179947853, 0.126723513007164, 0.04661212116479874, 0.08481740206480026, 0.09240292757749557, 0.05248531699180603, 0.006207150872796774, 0.07962386310100555, 0.010715058073401451, 0.15010544657707214, 0.03308252990245819, 0.054775260388851166, 0.03822993114590645, 0.021697992458939552, 0.10973799228668213, 0.0055759986862540245, 0.026135306805372238, 0.014557361602783203, 0.008323954418301582, 0.009122644551098347, 0.06511123478412628, 0.006632717791944742, 0.02487015165388584, 0.0010845366632565856, 0.006922201253473759, 0.01649230159819126, 0.002199196722358465]\n"
          ]
        },
        {
          "output_type": "display_data",
          "data": {
            "image/png": "[encoded data removed]",
            "text/plain": [
              "<Figure size 432x288 with 1 Axes>"
            ]
          },
          "metadata": {
            "needs_background": "light"
          }
        }
      ]
    }
  ]
}